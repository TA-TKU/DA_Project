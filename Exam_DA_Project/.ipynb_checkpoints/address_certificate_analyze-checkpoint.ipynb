{
 "cells": [
  {
   "cell_type": "code",
   "execution_count": 1,
   "id": "d7ffe9ec",
   "metadata": {},
   "outputs": [],
   "source": [
    "# dataframe\n",
    "import pandas as pd\n",
    "\n",
    "# excel\n",
    "from openpyxl import load_workbook"
   ]
  },
  {
   "cell_type": "code",
   "execution_count": 2,
   "id": "a1027c7c",
   "metadata": {},
   "outputs": [
    {
     "data": {
      "text/html": [
       "<div>\n",
       "<style scoped>\n",
       "    .dataframe tbody tr th:only-of-type {\n",
       "        vertical-align: middle;\n",
       "    }\n",
       "\n",
       "    .dataframe tbody tr th {\n",
       "        vertical-align: top;\n",
       "    }\n",
       "\n",
       "    .dataframe thead th {\n",
       "        text-align: right;\n",
       "    }\n",
       "</style>\n",
       "<table border=\"1\" class=\"dataframe\">\n",
       "  <thead>\n",
       "    <tr style=\"text-align: right;\">\n",
       "      <th></th>\n",
       "      <th>縣市區域</th>\n",
       "      <th>使照號碼</th>\n",
       "      <th>建照號碼</th>\n",
       "      <th>起造人</th>\n",
       "      <th>設計人</th>\n",
       "      <th>建築地址(代表號)\\t</th>\n",
       "      <th>發照日期</th>\n",
       "    </tr>\n",
       "  </thead>\n",
       "  <tbody>\n",
       "    <tr>\n",
       "      <th>0</th>\n",
       "      <td>新北市板橋區</td>\n",
       "      <td>62板使字第00520號</td>\n",
       "      <td>60板建字第01532號</td>\n",
       "      <td>沈OO等5人</td>\n",
       "      <td>賴盛時</td>\n",
       "      <td>新北市板橋區三民街108巷1號</td>\n",
       "      <td>NaN</td>\n",
       "    </tr>\n",
       "    <tr>\n",
       "      <th>1</th>\n",
       "      <td>新北市板橋區</td>\n",
       "      <td>62板使字第01721號</td>\n",
       "      <td>62板建字第01085號</td>\n",
       "      <td>徐OO等3人</td>\n",
       "      <td>蔡連生</td>\n",
       "      <td>新北市板橋區三民街237號</td>\n",
       "      <td>NaN</td>\n",
       "    </tr>\n",
       "    <tr>\n",
       "      <th>2</th>\n",
       "      <td>新北市板橋區</td>\n",
       "      <td>63板使字第00106號</td>\n",
       "      <td>62板建字第01518號</td>\n",
       "      <td>林OO等9人</td>\n",
       "      <td>NaN</td>\n",
       "      <td>新北市板橋區三民街245巷4弄12號</td>\n",
       "      <td>NaN</td>\n",
       "    </tr>\n",
       "    <tr>\n",
       "      <th>3</th>\n",
       "      <td>新北市板橋區</td>\n",
       "      <td>63板使字第00493號</td>\n",
       "      <td>62板建字第01917號</td>\n",
       "      <td>張OO等2人</td>\n",
       "      <td>湯永順</td>\n",
       "      <td>新北市板橋區三民街145巷25號</td>\n",
       "      <td>NaN</td>\n",
       "    </tr>\n",
       "    <tr>\n",
       "      <th>4</th>\n",
       "      <td>新北市板橋區</td>\n",
       "      <td>63莊使字第01261號</td>\n",
       "      <td>63莊建字第00552號</td>\n",
       "      <td>OO</td>\n",
       "      <td>李顯榮</td>\n",
       "      <td>新北市板橋區三民街11號</td>\n",
       "      <td>NaN</td>\n",
       "    </tr>\n",
       "    <tr>\n",
       "      <th>...</th>\n",
       "      <td>...</td>\n",
       "      <td>...</td>\n",
       "      <td>...</td>\n",
       "      <td>...</td>\n",
       "      <td>...</td>\n",
       "      <td>...</td>\n",
       "      <td>...</td>\n",
       "    </tr>\n",
       "    <tr>\n",
       "      <th>73757</th>\n",
       "      <td>新北市鶯歌區</td>\n",
       "      <td>108鶯使字第00126號</td>\n",
       "      <td>104鶯建字第00227號</td>\n",
       "      <td>瑞OO設股份有限公司(負責人：江謝翠如)</td>\n",
       "      <td>黃哲淵</td>\n",
       "      <td>新北市鶯歌區鳳鳴里024鄰龍五路160號</td>\n",
       "      <td>108/04/19</td>\n",
       "    </tr>\n",
       "    <tr>\n",
       "      <th>73758</th>\n",
       "      <td>新北市鶯歌區</td>\n",
       "      <td>108鶯使字第00387號</td>\n",
       "      <td>105鶯建字第00004號</td>\n",
       "      <td>臺OO光商業銀行股份有限公司代表人：李增昌</td>\n",
       "      <td>蕭家福</td>\n",
       "      <td>新北市鶯歌區鳳鳴里029鄰龍三路51號</td>\n",
       "      <td>108/10/14</td>\n",
       "    </tr>\n",
       "    <tr>\n",
       "      <th>73759</th>\n",
       "      <td>新北市鶯歌區</td>\n",
       "      <td>109鶯使字第00194號</td>\n",
       "      <td>104鶯建字第00296號</td>\n",
       "      <td>盈OO設股份有限公司負責人:林進財</td>\n",
       "      <td>曾聰憲</td>\n",
       "      <td>新北市鶯歌區鳳鳴里26鄰鳳五路87號3樓</td>\n",
       "      <td>109/06/17</td>\n",
       "    </tr>\n",
       "    <tr>\n",
       "      <th>73760</th>\n",
       "      <td>新北市鶯歌區</td>\n",
       "      <td>109鶯使字第00419號</td>\n",
       "      <td>105鶯建字第00335號</td>\n",
       "      <td>永OO設股份有限公司負責人：簡天民</td>\n",
       "      <td>廖錦盈</td>\n",
       "      <td>新北市鶯歌區鳳鳴里024鄰龍七路282號</td>\n",
       "      <td>109/12/18</td>\n",
       "    </tr>\n",
       "    <tr>\n",
       "      <th>73761</th>\n",
       "      <td>新北市鶯歌區</td>\n",
       "      <td>110鶯使字第00280號</td>\n",
       "      <td>107鶯建字第00383號</td>\n",
       "      <td>定OO設股份有限公司負責人：林夏森</td>\n",
       "      <td>呂文程</td>\n",
       "      <td>新北市鶯歌區龍五路282號3樓</td>\n",
       "      <td>110/08/25</td>\n",
       "    </tr>\n",
       "  </tbody>\n",
       "</table>\n",
       "<p>73762 rows × 7 columns</p>\n",
       "</div>"
      ],
      "text/plain": [
       "         縣市區域           使照號碼           建照號碼                    起造人  設計人  \\\n",
       "0      新北市板橋區   62板使字第00520號   60板建字第01532號                 沈OO等5人  賴盛時   \n",
       "1      新北市板橋區   62板使字第01721號   62板建字第01085號                 徐OO等3人  蔡連生   \n",
       "2      新北市板橋區   63板使字第00106號   62板建字第01518號                 林OO等9人  NaN   \n",
       "3      新北市板橋區   63板使字第00493號   62板建字第01917號                 張OO等2人  湯永順   \n",
       "4      新北市板橋區   63莊使字第01261號   63莊建字第00552號                     OO  李顯榮   \n",
       "...       ...            ...            ...                    ...  ...   \n",
       "73757  新北市鶯歌區  108鶯使字第00126號  104鶯建字第00227號   瑞OO設股份有限公司(負責人：江謝翠如)  黃哲淵   \n",
       "73758  新北市鶯歌區  108鶯使字第00387號  105鶯建字第00004號  臺OO光商業銀行股份有限公司代表人：李增昌  蕭家福   \n",
       "73759  新北市鶯歌區  109鶯使字第00194號  104鶯建字第00296號      盈OO設股份有限公司負責人:林進財  曾聰憲   \n",
       "73760  新北市鶯歌區  109鶯使字第00419號  105鶯建字第00335號      永OO設股份有限公司負責人：簡天民  廖錦盈   \n",
       "73761  新北市鶯歌區  110鶯使字第00280號  107鶯建字第00383號      定OO設股份有限公司負責人：林夏森  呂文程   \n",
       "\n",
       "                建築地址(代表號)\\t       發照日期  \n",
       "0           新北市板橋區三民街108巷1號        NaN  \n",
       "1             新北市板橋區三民街237號        NaN  \n",
       "2        新北市板橋區三民街245巷4弄12號        NaN  \n",
       "3          新北市板橋區三民街145巷25號        NaN  \n",
       "4              新北市板橋區三民街11號        NaN  \n",
       "...                     ...        ...  \n",
       "73757  新北市鶯歌區鳳鳴里024鄰龍五路160號  108/04/19  \n",
       "73758   新北市鶯歌區鳳鳴里029鄰龍三路51號  108/10/14  \n",
       "73759  新北市鶯歌區鳳鳴里26鄰鳳五路87號3樓  109/06/17  \n",
       "73760  新北市鶯歌區鳳鳴里024鄰龍七路282號  109/12/18  \n",
       "73761       新北市鶯歌區龍五路282號3樓  110/08/25  \n",
       "\n",
       "[73762 rows x 7 columns]"
      ]
     },
     "execution_count": 2,
     "metadata": {},
     "output_type": "execute_result"
    }
   ],
   "source": [
    "# 讀取已存在的 excel 檔案\n",
    "FilePath = \"address_certificate.xlsx\"   \n",
    "df = pd.read_excel (FilePath)\n",
    "df"
   ]
  },
  {
   "cell_type": "code",
   "execution_count": 3,
   "id": "0689f50d",
   "metadata": {
    "scrolled": false
   },
   "outputs": [
    {
     "data": {
      "text/html": [
       "<div>\n",
       "<style scoped>\n",
       "    .dataframe tbody tr th:only-of-type {\n",
       "        vertical-align: middle;\n",
       "    }\n",
       "\n",
       "    .dataframe tbody tr th {\n",
       "        vertical-align: top;\n",
       "    }\n",
       "\n",
       "    .dataframe thead th {\n",
       "        text-align: right;\n",
       "    }\n",
       "</style>\n",
       "<table border=\"1\" class=\"dataframe\">\n",
       "  <thead>\n",
       "    <tr style=\"text-align: right;\">\n",
       "      <th></th>\n",
       "      <th>縣市區域</th>\n",
       "      <th>使照號碼</th>\n",
       "      <th>建照號碼</th>\n",
       "      <th>起造人</th>\n",
       "      <th>設計人</th>\n",
       "      <th>建築地址(代表號)\\t</th>\n",
       "      <th>發照日期</th>\n",
       "    </tr>\n",
       "  </thead>\n",
       "  <tbody>\n",
       "    <tr>\n",
       "      <th>0</th>\n",
       "      <td>新北市板橋區</td>\n",
       "      <td>62板使字第00520號</td>\n",
       "      <td>60板建字第01532號</td>\n",
       "      <td>沈OO等5人</td>\n",
       "      <td>賴盛時</td>\n",
       "      <td>新北市板橋區三民街108巷1號</td>\n",
       "      <td>NaN</td>\n",
       "    </tr>\n",
       "    <tr>\n",
       "      <th>1</th>\n",
       "      <td>新北市板橋區</td>\n",
       "      <td>62板使字第01721號</td>\n",
       "      <td>62板建字第01085號</td>\n",
       "      <td>徐OO等3人</td>\n",
       "      <td>蔡連生</td>\n",
       "      <td>新北市板橋區三民街237號</td>\n",
       "      <td>NaN</td>\n",
       "    </tr>\n",
       "    <tr>\n",
       "      <th>2</th>\n",
       "      <td>新北市板橋區</td>\n",
       "      <td>63板使字第00106號</td>\n",
       "      <td>62板建字第01518號</td>\n",
       "      <td>林OO等9人</td>\n",
       "      <td>NaN</td>\n",
       "      <td>新北市板橋區三民街245巷4弄12號</td>\n",
       "      <td>NaN</td>\n",
       "    </tr>\n",
       "    <tr>\n",
       "      <th>3</th>\n",
       "      <td>新北市板橋區</td>\n",
       "      <td>63板使字第00493號</td>\n",
       "      <td>62板建字第01917號</td>\n",
       "      <td>張OO等2人</td>\n",
       "      <td>湯永順</td>\n",
       "      <td>新北市板橋區三民街145巷25號</td>\n",
       "      <td>NaN</td>\n",
       "    </tr>\n",
       "    <tr>\n",
       "      <th>4</th>\n",
       "      <td>新北市板橋區</td>\n",
       "      <td>63莊使字第01261號</td>\n",
       "      <td>63莊建字第00552號</td>\n",
       "      <td>OO</td>\n",
       "      <td>李顯榮</td>\n",
       "      <td>新北市板橋區三民街11號</td>\n",
       "      <td>NaN</td>\n",
       "    </tr>\n",
       "    <tr>\n",
       "      <th>...</th>\n",
       "      <td>...</td>\n",
       "      <td>...</td>\n",
       "      <td>...</td>\n",
       "      <td>...</td>\n",
       "      <td>...</td>\n",
       "      <td>...</td>\n",
       "      <td>...</td>\n",
       "    </tr>\n",
       "    <tr>\n",
       "      <th>73753</th>\n",
       "      <td>新北市鶯歌區</td>\n",
       "      <td>110鶯使字第00004號</td>\n",
       "      <td>105鶯建字第00355號</td>\n",
       "      <td>森OO發股份有限公司負責人：簡正德</td>\n",
       "      <td>廖錦盈</td>\n",
       "      <td>新北市鶯歌區鳳鳴里018鄰鶯歌路281號</td>\n",
       "      <td>110/01/07</td>\n",
       "    </tr>\n",
       "    <tr>\n",
       "      <th>73754</th>\n",
       "      <td>新北市鶯歌區</td>\n",
       "      <td>110鶯使字第00186號</td>\n",
       "      <td>107鶯建字第00067號</td>\n",
       "      <td>協OO設股份有限公司負責人:范秋芬</td>\n",
       "      <td>張智穗</td>\n",
       "      <td>新北市鶯歌區鳳鳴里16鄰鶯歌路101號</td>\n",
       "      <td>110/06/02</td>\n",
       "    </tr>\n",
       "    <tr>\n",
       "      <th>73755</th>\n",
       "      <td>新北市鶯歌區</td>\n",
       "      <td>110鶯使字第00300號</td>\n",
       "      <td>106鶯建字第00435號</td>\n",
       "      <td>文OO設股份有限公司負責人：簡君玲</td>\n",
       "      <td>廖錦盈</td>\n",
       "      <td>新北市鶯歌區鳳鳴里18鄰鶯歌路158號</td>\n",
       "      <td>110/09/14</td>\n",
       "    </tr>\n",
       "    <tr>\n",
       "      <th>73756</th>\n",
       "      <td>新北市鶯歌區</td>\n",
       "      <td>89鶯使字第00028號</td>\n",
       "      <td>85鶯建字第01456號</td>\n",
       "      <td>宏OO設股份有限公司負責人陳幼嫻等6人</td>\n",
       "      <td>林長勳</td>\n",
       "      <td>新北市鶯歌區黃厝街31巷1號</td>\n",
       "      <td>085/11/30</td>\n",
       "    </tr>\n",
       "    <tr>\n",
       "      <th>73760</th>\n",
       "      <td>新北市鶯歌區</td>\n",
       "      <td>109鶯使字第00419號</td>\n",
       "      <td>105鶯建字第00335號</td>\n",
       "      <td>永OO設股份有限公司負責人：簡天民</td>\n",
       "      <td>廖錦盈</td>\n",
       "      <td>新北市鶯歌區鳳鳴里024鄰龍七路282號</td>\n",
       "      <td>109/12/18</td>\n",
       "    </tr>\n",
       "  </tbody>\n",
       "</table>\n",
       "<p>66036 rows × 7 columns</p>\n",
       "</div>"
      ],
      "text/plain": [
       "         縣市區域           使照號碼           建照號碼                  起造人  設計人  \\\n",
       "0      新北市板橋區   62板使字第00520號   60板建字第01532號               沈OO等5人  賴盛時   \n",
       "1      新北市板橋區   62板使字第01721號   62板建字第01085號               徐OO等3人  蔡連生   \n",
       "2      新北市板橋區   63板使字第00106號   62板建字第01518號               林OO等9人  NaN   \n",
       "3      新北市板橋區   63板使字第00493號   62板建字第01917號               張OO等2人  湯永順   \n",
       "4      新北市板橋區   63莊使字第01261號   63莊建字第00552號                   OO  李顯榮   \n",
       "...       ...            ...            ...                  ...  ...   \n",
       "73753  新北市鶯歌區  110鶯使字第00004號  105鶯建字第00355號    森OO發股份有限公司負責人：簡正德  廖錦盈   \n",
       "73754  新北市鶯歌區  110鶯使字第00186號  107鶯建字第00067號    協OO設股份有限公司負責人:范秋芬  張智穗   \n",
       "73755  新北市鶯歌區  110鶯使字第00300號  106鶯建字第00435號    文OO設股份有限公司負責人：簡君玲  廖錦盈   \n",
       "73756  新北市鶯歌區   89鶯使字第00028號   85鶯建字第01456號  宏OO設股份有限公司負責人陳幼嫻等6人  林長勳   \n",
       "73760  新北市鶯歌區  109鶯使字第00419號  105鶯建字第00335號    永OO設股份有限公司負責人：簡天民  廖錦盈   \n",
       "\n",
       "                建築地址(代表號)\\t       發照日期  \n",
       "0           新北市板橋區三民街108巷1號        NaN  \n",
       "1             新北市板橋區三民街237號        NaN  \n",
       "2        新北市板橋區三民街245巷4弄12號        NaN  \n",
       "3          新北市板橋區三民街145巷25號        NaN  \n",
       "4              新北市板橋區三民街11號        NaN  \n",
       "...                     ...        ...  \n",
       "73753  新北市鶯歌區鳳鳴里018鄰鶯歌路281號  110/01/07  \n",
       "73754   新北市鶯歌區鳳鳴里16鄰鶯歌路101號  110/06/02  \n",
       "73755   新北市鶯歌區鳳鳴里18鄰鶯歌路158號  110/09/14  \n",
       "73756        新北市鶯歌區黃厝街31巷1號  085/11/30  \n",
       "73760  新北市鶯歌區鳳鳴里024鄰龍七路282號  109/12/18  \n",
       "\n",
       "[66036 rows x 7 columns]"
      ]
     },
     "execution_count": 3,
     "metadata": {},
     "output_type": "execute_result"
    }
   ],
   "source": [
    "df1 = df.drop_duplicates()\n",
    "df1"
   ]
  },
  {
   "cell_type": "code",
   "execution_count": 4,
   "id": "83d08125",
   "metadata": {},
   "outputs": [
    {
     "data": {
      "text/plain": [
       "array(['新北市板橋區', '新北市土城區', '新北市新莊區', '新北市林口區', '新北市五股區', '新北市泰山區',\n",
       "       '新北市新店區', '新北市石碇區', '新北市深坑區', '新北市坪林區', '新北市烏來區', '新北市金山區',\n",
       "       '新北市萬里區', '新北市汐止區', '新北市淡水區', '新北市三芝區', '新北市石門區', '新北市八里區',\n",
       "       '新北市瑞芳區', '新北市平溪區', '新北市雙溪區', '新北市貢寮區', '新北市蘆洲區', '新北市三重區',\n",
       "       '新北市中和區', '新北市永和區', '新北市三峽區', '新北市鶯歌區'], dtype=object)"
      ]
     },
     "execution_count": 4,
     "metadata": {},
     "output_type": "execute_result"
    }
   ],
   "source": [
    "area = df1['縣市區域'].drop_duplicates().values\n",
    "area"
   ]
  },
  {
   "cell_type": "code",
   "execution_count": 5,
   "id": "db52a035",
   "metadata": {},
   "outputs": [
    {
     "data": {
      "text/plain": [
       "新北市三重區    7885\n",
       "新北市板橋區    7688\n",
       "新北市新莊區    7246\n",
       "新北市中和區    5664\n",
       "新北市永和區    4723\n",
       "新北市新店區    4297\n",
       "新北市淡水區    4146\n",
       "新北市土城區    3736\n",
       "新北市汐止區    3256\n",
       "新北市蘆洲區    3036\n",
       "新北市三峽區    2354\n",
       "新北市鶯歌區    2249\n",
       "新北市林口區    1632\n",
       "新北市五股區    1603\n",
       "新北市泰山區    1417\n",
       "新北市金山區     984\n",
       "新北市瑞芳區     930\n",
       "新北市八里區     894\n",
       "新北市三芝區     884\n",
       "新北市萬里區     351\n",
       "新北市深坑區     276\n",
       "新北市貢寮區     232\n",
       "新北市石門區     166\n",
       "新北市雙溪區     139\n",
       "新北市石碇區      83\n",
       "新北市坪林區      75\n",
       "新北市平溪區      59\n",
       "新北市烏來區      31\n",
       "Name: 縣市區域, dtype: int64"
      ]
     },
     "execution_count": 5,
     "metadata": {},
     "output_type": "execute_result"
    }
   ],
   "source": [
    "counts = df1[\"縣市區域\"].value_counts()\n",
    "counts"
   ]
  },
  {
   "cell_type": "code",
   "execution_count": 6,
   "id": "fc4c5ce1",
   "metadata": {
    "scrolled": true
   },
   "outputs": [
    {
     "data": {
      "text/plain": [
       "pandas.core.series.Series"
      ]
     },
     "execution_count": 6,
     "metadata": {},
     "output_type": "execute_result"
    }
   ],
   "source": [
    "type(counts)"
   ]
  },
  {
   "cell_type": "code",
   "execution_count": 7,
   "id": "4e9ce22a",
   "metadata": {
    "scrolled": true
   },
   "outputs": [
    {
     "data": {
      "text/plain": [
       "新北市三重區    7885\n",
       "Name: 縣市區域, dtype: int64"
      ]
     },
     "execution_count": 7,
     "metadata": {},
     "output_type": "execute_result"
    }
   ],
   "source": [
    "counts.nlargest(n=1) #https://pandas.pydata.org/pandas-docs/stable/reference/api/pandas.Series.nlargest.html"
   ]
  },
  {
   "cell_type": "code",
   "execution_count": 8,
   "id": "33426863",
   "metadata": {
    "scrolled": true
   },
   "outputs": [
    {
     "data": {
      "text/plain": [
       "新北市烏來區    31\n",
       "Name: 縣市區域, dtype: int64"
      ]
     },
     "execution_count": 8,
     "metadata": {},
     "output_type": "execute_result"
    }
   ],
   "source": [
    "counts.nsmallest(n=1)"
   ]
  },
  {
   "cell_type": "code",
   "execution_count": 9,
   "id": "51b2c819",
   "metadata": {
    "scrolled": true
   },
   "outputs": [
    {
     "data": {
      "text/plain": [
       "float"
      ]
     },
     "execution_count": 9,
     "metadata": {},
     "output_type": "execute_result"
    }
   ],
   "source": [
    "type(df1['發照日期'].iloc[0])"
   ]
  },
  {
   "cell_type": "code",
   "execution_count": 10,
   "id": "937d7d0b",
   "metadata": {},
   "outputs": [
    {
     "data": {
      "text/html": [
       "<div>\n",
       "<style scoped>\n",
       "    .dataframe tbody tr th:only-of-type {\n",
       "        vertical-align: middle;\n",
       "    }\n",
       "\n",
       "    .dataframe tbody tr th {\n",
       "        vertical-align: top;\n",
       "    }\n",
       "\n",
       "    .dataframe thead th {\n",
       "        text-align: right;\n",
       "    }\n",
       "</style>\n",
       "<table border=\"1\" class=\"dataframe\">\n",
       "  <thead>\n",
       "    <tr style=\"text-align: right;\">\n",
       "      <th></th>\n",
       "      <th>縣市區域</th>\n",
       "      <th>使照號碼</th>\n",
       "      <th>建照號碼</th>\n",
       "      <th>起造人</th>\n",
       "      <th>設計人</th>\n",
       "      <th>建築地址(代表號)\\t</th>\n",
       "      <th>發照日期</th>\n",
       "    </tr>\n",
       "  </thead>\n",
       "  <tbody>\n",
       "    <tr>\n",
       "      <th>16</th>\n",
       "      <td>新北市板橋區</td>\n",
       "      <td>65板使字第01867號</td>\n",
       "      <td>--</td>\n",
       "      <td>陳OO等10人</td>\n",
       "      <td>明志</td>\n",
       "      <td>新北市板橋區三民路1段53巷20號</td>\n",
       "      <td>065/09/15</td>\n",
       "    </tr>\n",
       "    <tr>\n",
       "      <th>41</th>\n",
       "      <td>新北市板橋區</td>\n",
       "      <td>068板使字第00867號</td>\n",
       "      <td>68重建字第00996號</td>\n",
       "      <td>國OO設股份有限公司蔡萬春</td>\n",
       "      <td>NaN</td>\n",
       "      <td>新北市板橋區三民路2段125號</td>\n",
       "      <td>069/03/14</td>\n",
       "    </tr>\n",
       "    <tr>\n",
       "      <th>54</th>\n",
       "      <td>新北市板橋區</td>\n",
       "      <td>68板使字第01883號</td>\n",
       "      <td>--</td>\n",
       "      <td>張OO等39人</td>\n",
       "      <td>照華</td>\n",
       "      <td>新北市板橋區三民路2段1弄40號</td>\n",
       "      <td>068/07/04</td>\n",
       "    </tr>\n",
       "    <tr>\n",
       "      <th>62</th>\n",
       "      <td>新北市板橋區</td>\n",
       "      <td>68板使字第02807號</td>\n",
       "      <td>68板建字第00874號</td>\n",
       "      <td>陳OO等6人</td>\n",
       "      <td>石森茂</td>\n",
       "      <td>新北市板橋區三民路2段21號</td>\n",
       "      <td>068/03/23</td>\n",
       "    </tr>\n",
       "    <tr>\n",
       "      <th>63</th>\n",
       "      <td>新北市板橋區</td>\n",
       "      <td>68板使字第02808號</td>\n",
       "      <td>68板建字第01118號</td>\n",
       "      <td>林OO等5人</td>\n",
       "      <td>石森茂</td>\n",
       "      <td>新北市板橋區三民路2段15號</td>\n",
       "      <td>068/09/23</td>\n",
       "    </tr>\n",
       "    <tr>\n",
       "      <th>...</th>\n",
       "      <td>...</td>\n",
       "      <td>...</td>\n",
       "      <td>...</td>\n",
       "      <td>...</td>\n",
       "      <td>...</td>\n",
       "      <td>...</td>\n",
       "      <td>...</td>\n",
       "    </tr>\n",
       "    <tr>\n",
       "      <th>73753</th>\n",
       "      <td>新北市鶯歌區</td>\n",
       "      <td>110鶯使字第00004號</td>\n",
       "      <td>105鶯建字第00355號</td>\n",
       "      <td>森OO發股份有限公司負責人：簡正德</td>\n",
       "      <td>廖錦盈</td>\n",
       "      <td>新北市鶯歌區鳳鳴里018鄰鶯歌路281號</td>\n",
       "      <td>110/01/07</td>\n",
       "    </tr>\n",
       "    <tr>\n",
       "      <th>73754</th>\n",
       "      <td>新北市鶯歌區</td>\n",
       "      <td>110鶯使字第00186號</td>\n",
       "      <td>107鶯建字第00067號</td>\n",
       "      <td>協OO設股份有限公司負責人:范秋芬</td>\n",
       "      <td>張智穗</td>\n",
       "      <td>新北市鶯歌區鳳鳴里16鄰鶯歌路101號</td>\n",
       "      <td>110/06/02</td>\n",
       "    </tr>\n",
       "    <tr>\n",
       "      <th>73755</th>\n",
       "      <td>新北市鶯歌區</td>\n",
       "      <td>110鶯使字第00300號</td>\n",
       "      <td>106鶯建字第00435號</td>\n",
       "      <td>文OO設股份有限公司負責人：簡君玲</td>\n",
       "      <td>廖錦盈</td>\n",
       "      <td>新北市鶯歌區鳳鳴里18鄰鶯歌路158號</td>\n",
       "      <td>110/09/14</td>\n",
       "    </tr>\n",
       "    <tr>\n",
       "      <th>73756</th>\n",
       "      <td>新北市鶯歌區</td>\n",
       "      <td>89鶯使字第00028號</td>\n",
       "      <td>85鶯建字第01456號</td>\n",
       "      <td>宏OO設股份有限公司負責人陳幼嫻等6人</td>\n",
       "      <td>林長勳</td>\n",
       "      <td>新北市鶯歌區黃厝街31巷1號</td>\n",
       "      <td>085/11/30</td>\n",
       "    </tr>\n",
       "    <tr>\n",
       "      <th>73760</th>\n",
       "      <td>新北市鶯歌區</td>\n",
       "      <td>109鶯使字第00419號</td>\n",
       "      <td>105鶯建字第00335號</td>\n",
       "      <td>永OO設股份有限公司負責人：簡天民</td>\n",
       "      <td>廖錦盈</td>\n",
       "      <td>新北市鶯歌區鳳鳴里024鄰龍七路282號</td>\n",
       "      <td>109/12/18</td>\n",
       "    </tr>\n",
       "  </tbody>\n",
       "</table>\n",
       "<p>45737 rows × 7 columns</p>\n",
       "</div>"
      ],
      "text/plain": [
       "         縣市區域           使照號碼           建照號碼                  起造人  設計人  \\\n",
       "16     新北市板橋區   65板使字第01867號             --              陳OO等10人   明志   \n",
       "41     新北市板橋區  068板使字第00867號   68重建字第00996號        國OO設股份有限公司蔡萬春  NaN   \n",
       "54     新北市板橋區   68板使字第01883號             --              張OO等39人   照華   \n",
       "62     新北市板橋區   68板使字第02807號   68板建字第00874號               陳OO等6人  石森茂   \n",
       "63     新北市板橋區   68板使字第02808號   68板建字第01118號               林OO等5人  石森茂   \n",
       "...       ...            ...            ...                  ...  ...   \n",
       "73753  新北市鶯歌區  110鶯使字第00004號  105鶯建字第00355號    森OO發股份有限公司負責人：簡正德  廖錦盈   \n",
       "73754  新北市鶯歌區  110鶯使字第00186號  107鶯建字第00067號    協OO設股份有限公司負責人:范秋芬  張智穗   \n",
       "73755  新北市鶯歌區  110鶯使字第00300號  106鶯建字第00435號    文OO設股份有限公司負責人：簡君玲  廖錦盈   \n",
       "73756  新北市鶯歌區   89鶯使字第00028號   85鶯建字第01456號  宏OO設股份有限公司負責人陳幼嫻等6人  林長勳   \n",
       "73760  新北市鶯歌區  109鶯使字第00419號  105鶯建字第00335號    永OO設股份有限公司負責人：簡天民  廖錦盈   \n",
       "\n",
       "                建築地址(代表號)\\t       發照日期  \n",
       "16        新北市板橋區三民路1段53巷20號  065/09/15  \n",
       "41          新北市板橋區三民路2段125號  069/03/14  \n",
       "54         新北市板橋區三民路2段1弄40號  068/07/04  \n",
       "62           新北市板橋區三民路2段21號  068/03/23  \n",
       "63           新北市板橋區三民路2段15號  068/09/23  \n",
       "...                     ...        ...  \n",
       "73753  新北市鶯歌區鳳鳴里018鄰鶯歌路281號  110/01/07  \n",
       "73754   新北市鶯歌區鳳鳴里16鄰鶯歌路101號  110/06/02  \n",
       "73755   新北市鶯歌區鳳鳴里18鄰鶯歌路158號  110/09/14  \n",
       "73756        新北市鶯歌區黃厝街31巷1號  085/11/30  \n",
       "73760  新北市鶯歌區鳳鳴里024鄰龍七路282號  109/12/18  \n",
       "\n",
       "[45737 rows x 7 columns]"
      ]
     },
     "execution_count": 10,
     "metadata": {},
     "output_type": "execute_result"
    }
   ],
   "source": [
    "#withDatedf= df1[df1.dropna(subset=\"發照日期\")]\n",
    "withDatedf = df1.dropna(subset=('縣市區域','發照日期'))\n",
    "withDatedf"
   ]
  },
  {
   "cell_type": "code",
   "execution_count": 11,
   "id": "943d8efb",
   "metadata": {},
   "outputs": [
    {
     "data": {
      "text/plain": [
       "str"
      ]
     },
     "execution_count": 11,
     "metadata": {},
     "output_type": "execute_result"
    }
   ],
   "source": [
    "type(withDatedf[\"發照日期\"].iloc[0])"
   ]
  },
  {
   "cell_type": "code",
   "execution_count": null,
   "id": "6a861bc2",
   "metadata": {
    "scrolled": false
   },
   "outputs": [],
   "source": [
    "# 把民國年份改成西元年分\n",
    "tmp = withDatedf[\"發照日期\"].iloc[0][0:3]\n",
    "#rest = withDatedf[\"發照日期\"].iloc[0].iloc[3:]\n",
    "withDatedf[\"發照日期\"].iloc[0].replace(tmp,str(int(tmp)+1911))"
   ]
  },
  {
   "cell_type": "code",
   "execution_count": 27,
   "id": "7cd7e055",
   "metadata": {
    "scrolled": true
   },
   "outputs": [
    {
     "data": {
      "text/plain": [
       "16       065/09/15\n",
       "41       069/03/14\n",
       "54       068/07/04\n",
       "62       068/03/23\n",
       "63       068/09/23\n",
       "           ...    \n",
       "73753    110/01/07\n",
       "73754    110/06/02\n",
       "73755    110/09/14\n",
       "73756    085/11/30\n",
       "73760    109/12/18\n",
       "Name: 發照日期, Length: 45737, dtype: object"
      ]
     },
     "execution_count": 27,
     "metadata": {},
     "output_type": "execute_result"
    }
   ],
   "source": [
    "withDatedf.loc[:,\"發照日期\"]"
   ]
  },
  {
   "cell_type": "code",
   "execution_count": 28,
   "id": "acc64265",
   "metadata": {},
   "outputs": [
    {
     "data": {
      "text/plain": [
       "array(['065/09/15', '069/03/14', '068/07/04', ..., '110/09/14',\n",
       "       '085/11/30', '109/12/18'], dtype=object)"
      ]
     },
     "execution_count": 28,
     "metadata": {},
     "output_type": "execute_result"
    }
   ],
   "source": [
    "withDatedf.loc[:,\"發照日期\"].values"
   ]
  },
  {
   "cell_type": "code",
   "execution_count": 30,
   "id": "28340fa6",
   "metadata": {
    "scrolled": true
   },
   "outputs": [
    {
     "data": {
      "text/plain": [
       "16              XX\n",
       "41              XX\n",
       "54              XX\n",
       "62       068/03/23\n",
       "63       068/09/23\n",
       "           ...    \n",
       "73753    110/01/07\n",
       "73754    110/06/02\n",
       "73755    110/09/14\n",
       "73756    085/11/30\n",
       "73760    109/12/18\n",
       "Name: 發照日期, Length: 45737, dtype: object"
      ]
     },
     "execution_count": 30,
     "metadata": {},
     "output_type": "execute_result"
    }
   ],
   "source": [
    "withDatedf.loc[:,\"發照日期\"].replace(withDatedf.loc[:,\"發照日期\"].values[0:3],\"XX\")"
   ]
  },
  {
   "cell_type": "code",
   "execution_count": 34,
   "id": "0e9dd481",
   "metadata": {
    "scrolled": true
   },
   "outputs": [
    {
     "data": {
      "text/plain": [
       "16       1911/09/15\n",
       "41       1911/03/14\n",
       "54       1911/07/04\n",
       "62       1911/03/23\n",
       "63       1911/09/23\n",
       "            ...    \n",
       "73753    1911/01/07\n",
       "73754    1911/06/02\n",
       "73755    1911/09/14\n",
       "73756    1911/11/30\n",
       "73760    1911/12/18\n",
       "Name: 發照日期, Length: 45737, dtype: object"
      ]
     },
     "execution_count": 34,
     "metadata": {},
     "output_type": "execute_result"
    }
   ],
   "source": [
    "#withDatedf.loc[:,\"發照日期\"].values.apply(lambda x: x.replace(x[0:3],\"1911\"))\n",
    "withDatedf[\"發照日期\"].apply(lambda x: x.replace(x[0:3],\"1911\"))"
   ]
  },
  {
   "cell_type": "code",
   "execution_count": 37,
   "id": "5cc095c4",
   "metadata": {},
   "outputs": [
    {
     "ename": "ValueError",
     "evalue": "invalid literal for int() with base 10: '0--'",
     "output_type": "error",
     "traceback": [
      "\u001b[1;31m---------------------------------------------------------------------------\u001b[0m",
      "\u001b[1;31mValueError\u001b[0m                                Traceback (most recent call last)",
      "\u001b[1;32m~\\AppData\\Local\\Temp/ipykernel_29520/1423665502.py\u001b[0m in \u001b[0;36m<module>\u001b[1;34m\u001b[0m\n\u001b[1;32m----> 1\u001b[1;33m \u001b[0mwithDatedf\u001b[0m\u001b[1;33m[\u001b[0m\u001b[1;34m\"發照日期\"\u001b[0m\u001b[1;33m]\u001b[0m\u001b[1;33m.\u001b[0m\u001b[0mapply\u001b[0m\u001b[1;33m(\u001b[0m\u001b[1;32mlambda\u001b[0m \u001b[0mx\u001b[0m\u001b[1;33m:\u001b[0m \u001b[0mx\u001b[0m\u001b[1;33m.\u001b[0m\u001b[0mreplace\u001b[0m\u001b[1;33m(\u001b[0m\u001b[0mx\u001b[0m\u001b[1;33m[\u001b[0m\u001b[1;36m0\u001b[0m\u001b[1;33m:\u001b[0m\u001b[1;36m3\u001b[0m\u001b[1;33m]\u001b[0m\u001b[1;33m,\u001b[0m\u001b[0mstr\u001b[0m\u001b[1;33m(\u001b[0m\u001b[0mint\u001b[0m\u001b[1;33m(\u001b[0m\u001b[0mx\u001b[0m\u001b[1;33m[\u001b[0m\u001b[1;36m0\u001b[0m\u001b[1;33m:\u001b[0m\u001b[1;36m3\u001b[0m\u001b[1;33m]\u001b[0m\u001b[1;33m)\u001b[0m\u001b[1;33m+\u001b[0m\u001b[1;36m1911\u001b[0m\u001b[1;33m)\u001b[0m\u001b[1;33m)\u001b[0m\u001b[1;33m)\u001b[0m\u001b[1;33m\u001b[0m\u001b[1;33m\u001b[0m\u001b[0m\n\u001b[0m",
      "\u001b[1;32m~\\anaconda3\\lib\\site-packages\\pandas\\core\\series.py\u001b[0m in \u001b[0;36mapply\u001b[1;34m(self, func, convert_dtype, args, **kwargs)\u001b[0m\n\u001b[0;32m   4355\u001b[0m         \u001b[0mdtype\u001b[0m\u001b[1;33m:\u001b[0m \u001b[0mfloat64\u001b[0m\u001b[1;33m\u001b[0m\u001b[1;33m\u001b[0m\u001b[0m\n\u001b[0;32m   4356\u001b[0m         \"\"\"\n\u001b[1;32m-> 4357\u001b[1;33m         \u001b[1;32mreturn\u001b[0m \u001b[0mSeriesApply\u001b[0m\u001b[1;33m(\u001b[0m\u001b[0mself\u001b[0m\u001b[1;33m,\u001b[0m \u001b[0mfunc\u001b[0m\u001b[1;33m,\u001b[0m \u001b[0mconvert_dtype\u001b[0m\u001b[1;33m,\u001b[0m \u001b[0margs\u001b[0m\u001b[1;33m,\u001b[0m \u001b[0mkwargs\u001b[0m\u001b[1;33m)\u001b[0m\u001b[1;33m.\u001b[0m\u001b[0mapply\u001b[0m\u001b[1;33m(\u001b[0m\u001b[1;33m)\u001b[0m\u001b[1;33m\u001b[0m\u001b[1;33m\u001b[0m\u001b[0m\n\u001b[0m\u001b[0;32m   4358\u001b[0m \u001b[1;33m\u001b[0m\u001b[0m\n\u001b[0;32m   4359\u001b[0m     def _reduce(\n",
      "\u001b[1;32m~\\anaconda3\\lib\\site-packages\\pandas\\core\\apply.py\u001b[0m in \u001b[0;36mapply\u001b[1;34m(self)\u001b[0m\n\u001b[0;32m   1041\u001b[0m             \u001b[1;32mreturn\u001b[0m \u001b[0mself\u001b[0m\u001b[1;33m.\u001b[0m\u001b[0mapply_str\u001b[0m\u001b[1;33m(\u001b[0m\u001b[1;33m)\u001b[0m\u001b[1;33m\u001b[0m\u001b[1;33m\u001b[0m\u001b[0m\n\u001b[0;32m   1042\u001b[0m \u001b[1;33m\u001b[0m\u001b[0m\n\u001b[1;32m-> 1043\u001b[1;33m         \u001b[1;32mreturn\u001b[0m \u001b[0mself\u001b[0m\u001b[1;33m.\u001b[0m\u001b[0mapply_standard\u001b[0m\u001b[1;33m(\u001b[0m\u001b[1;33m)\u001b[0m\u001b[1;33m\u001b[0m\u001b[1;33m\u001b[0m\u001b[0m\n\u001b[0m\u001b[0;32m   1044\u001b[0m \u001b[1;33m\u001b[0m\u001b[0m\n\u001b[0;32m   1045\u001b[0m     \u001b[1;32mdef\u001b[0m \u001b[0magg\u001b[0m\u001b[1;33m(\u001b[0m\u001b[0mself\u001b[0m\u001b[1;33m)\u001b[0m\u001b[1;33m:\u001b[0m\u001b[1;33m\u001b[0m\u001b[1;33m\u001b[0m\u001b[0m\n",
      "\u001b[1;32m~\\anaconda3\\lib\\site-packages\\pandas\\core\\apply.py\u001b[0m in \u001b[0;36mapply_standard\u001b[1;34m(self)\u001b[0m\n\u001b[0;32m   1096\u001b[0m                 \u001b[1;31m# List[Union[Callable[..., Any], str]]]]]\"; expected\u001b[0m\u001b[1;33m\u001b[0m\u001b[1;33m\u001b[0m\u001b[0m\n\u001b[0;32m   1097\u001b[0m                 \u001b[1;31m# \"Callable[[Any], Any]\"\u001b[0m\u001b[1;33m\u001b[0m\u001b[1;33m\u001b[0m\u001b[0m\n\u001b[1;32m-> 1098\u001b[1;33m                 mapped = lib.map_infer(\n\u001b[0m\u001b[0;32m   1099\u001b[0m                     \u001b[0mvalues\u001b[0m\u001b[1;33m,\u001b[0m\u001b[1;33m\u001b[0m\u001b[1;33m\u001b[0m\u001b[0m\n\u001b[0;32m   1100\u001b[0m                     \u001b[0mf\u001b[0m\u001b[1;33m,\u001b[0m  \u001b[1;31m# type: ignore[arg-type]\u001b[0m\u001b[1;33m\u001b[0m\u001b[1;33m\u001b[0m\u001b[0m\n",
      "\u001b[1;32m~\\anaconda3\\lib\\site-packages\\pandas\\_libs\\lib.pyx\u001b[0m in \u001b[0;36mpandas._libs.lib.map_infer\u001b[1;34m()\u001b[0m\n",
      "\u001b[1;32m~\\AppData\\Local\\Temp/ipykernel_29520/1423665502.py\u001b[0m in \u001b[0;36m<lambda>\u001b[1;34m(x)\u001b[0m\n\u001b[1;32m----> 1\u001b[1;33m \u001b[0mwithDatedf\u001b[0m\u001b[1;33m[\u001b[0m\u001b[1;34m\"發照日期\"\u001b[0m\u001b[1;33m]\u001b[0m\u001b[1;33m.\u001b[0m\u001b[0mapply\u001b[0m\u001b[1;33m(\u001b[0m\u001b[1;32mlambda\u001b[0m \u001b[0mx\u001b[0m\u001b[1;33m:\u001b[0m \u001b[0mx\u001b[0m\u001b[1;33m.\u001b[0m\u001b[0mreplace\u001b[0m\u001b[1;33m(\u001b[0m\u001b[0mx\u001b[0m\u001b[1;33m[\u001b[0m\u001b[1;36m0\u001b[0m\u001b[1;33m:\u001b[0m\u001b[1;36m3\u001b[0m\u001b[1;33m]\u001b[0m\u001b[1;33m,\u001b[0m\u001b[0mstr\u001b[0m\u001b[1;33m(\u001b[0m\u001b[0mint\u001b[0m\u001b[1;33m(\u001b[0m\u001b[0mx\u001b[0m\u001b[1;33m[\u001b[0m\u001b[1;36m0\u001b[0m\u001b[1;33m:\u001b[0m\u001b[1;36m3\u001b[0m\u001b[1;33m]\u001b[0m\u001b[1;33m)\u001b[0m\u001b[1;33m+\u001b[0m\u001b[1;36m1911\u001b[0m\u001b[1;33m)\u001b[0m\u001b[1;33m)\u001b[0m\u001b[1;33m)\u001b[0m\u001b[1;33m\u001b[0m\u001b[1;33m\u001b[0m\u001b[0m\n\u001b[0m",
      "\u001b[1;31mValueError\u001b[0m: invalid literal for int() with base 10: '0--'"
     ]
    }
   ],
   "source": [
    "withDatedf[\"發照日期\"].apply(lambda x: x.replace(x[0:3],str(int(x[0:3])+1911)))"
   ]
  },
  {
   "cell_type": "code",
   "execution_count": 39,
   "id": "895742dc",
   "metadata": {},
   "outputs": [
    {
     "ename": "ValueError",
     "evalue": "could not convert string to float: '065/09/15'",
     "output_type": "error",
     "traceback": [
      "\u001b[1;31m---------------------------------------------------------------------------\u001b[0m",
      "\u001b[1;31mValueError\u001b[0m                                Traceback (most recent call last)",
      "\u001b[1;32m~\\AppData\\Local\\Temp/ipykernel_29520/495393899.py\u001b[0m in \u001b[0;36m<module>\u001b[1;34m\u001b[0m\n\u001b[1;32m----> 1\u001b[1;33m \u001b[0mwithDatedf\u001b[0m\u001b[1;33m[\u001b[0m\u001b[1;34m\"發照日期\"\u001b[0m\u001b[1;33m]\u001b[0m\u001b[1;33m.\u001b[0m\u001b[0mreplace\u001b[0m\u001b[1;33m(\u001b[0m\u001b[1;34m'\\\\'\u001b[0m\u001b[1;33m,\u001b[0m\u001b[1;34m\"\"\u001b[0m\u001b[1;33m)\u001b[0m\u001b[1;33m.\u001b[0m\u001b[0mastype\u001b[0m\u001b[1;33m(\u001b[0m\u001b[0mfloat\u001b[0m\u001b[1;33m)\u001b[0m\u001b[1;33m\u001b[0m\u001b[1;33m\u001b[0m\u001b[0m\n\u001b[0m",
      "\u001b[1;32m~\\anaconda3\\lib\\site-packages\\pandas\\core\\generic.py\u001b[0m in \u001b[0;36mastype\u001b[1;34m(self, dtype, copy, errors)\u001b[0m\n\u001b[0;32m   5813\u001b[0m         \u001b[1;32melse\u001b[0m\u001b[1;33m:\u001b[0m\u001b[1;33m\u001b[0m\u001b[1;33m\u001b[0m\u001b[0m\n\u001b[0;32m   5814\u001b[0m             \u001b[1;31m# else, only a single dtype is given\u001b[0m\u001b[1;33m\u001b[0m\u001b[1;33m\u001b[0m\u001b[0m\n\u001b[1;32m-> 5815\u001b[1;33m             \u001b[0mnew_data\u001b[0m \u001b[1;33m=\u001b[0m \u001b[0mself\u001b[0m\u001b[1;33m.\u001b[0m\u001b[0m_mgr\u001b[0m\u001b[1;33m.\u001b[0m\u001b[0mastype\u001b[0m\u001b[1;33m(\u001b[0m\u001b[0mdtype\u001b[0m\u001b[1;33m=\u001b[0m\u001b[0mdtype\u001b[0m\u001b[1;33m,\u001b[0m \u001b[0mcopy\u001b[0m\u001b[1;33m=\u001b[0m\u001b[0mcopy\u001b[0m\u001b[1;33m,\u001b[0m \u001b[0merrors\u001b[0m\u001b[1;33m=\u001b[0m\u001b[0merrors\u001b[0m\u001b[1;33m)\u001b[0m\u001b[1;33m\u001b[0m\u001b[1;33m\u001b[0m\u001b[0m\n\u001b[0m\u001b[0;32m   5816\u001b[0m             \u001b[1;32mreturn\u001b[0m \u001b[0mself\u001b[0m\u001b[1;33m.\u001b[0m\u001b[0m_constructor\u001b[0m\u001b[1;33m(\u001b[0m\u001b[0mnew_data\u001b[0m\u001b[1;33m)\u001b[0m\u001b[1;33m.\u001b[0m\u001b[0m__finalize__\u001b[0m\u001b[1;33m(\u001b[0m\u001b[0mself\u001b[0m\u001b[1;33m,\u001b[0m \u001b[0mmethod\u001b[0m\u001b[1;33m=\u001b[0m\u001b[1;34m\"astype\"\u001b[0m\u001b[1;33m)\u001b[0m\u001b[1;33m\u001b[0m\u001b[1;33m\u001b[0m\u001b[0m\n\u001b[0;32m   5817\u001b[0m \u001b[1;33m\u001b[0m\u001b[0m\n",
      "\u001b[1;32m~\\anaconda3\\lib\\site-packages\\pandas\\core\\internals\\managers.py\u001b[0m in \u001b[0;36mastype\u001b[1;34m(self, dtype, copy, errors)\u001b[0m\n\u001b[0;32m    416\u001b[0m \u001b[1;33m\u001b[0m\u001b[0m\n\u001b[0;32m    417\u001b[0m     \u001b[1;32mdef\u001b[0m \u001b[0mastype\u001b[0m\u001b[1;33m(\u001b[0m\u001b[0mself\u001b[0m\u001b[1;33m:\u001b[0m \u001b[0mT\u001b[0m\u001b[1;33m,\u001b[0m \u001b[0mdtype\u001b[0m\u001b[1;33m,\u001b[0m \u001b[0mcopy\u001b[0m\u001b[1;33m:\u001b[0m \u001b[0mbool\u001b[0m \u001b[1;33m=\u001b[0m \u001b[1;32mFalse\u001b[0m\u001b[1;33m,\u001b[0m \u001b[0merrors\u001b[0m\u001b[1;33m:\u001b[0m \u001b[0mstr\u001b[0m \u001b[1;33m=\u001b[0m \u001b[1;34m\"raise\"\u001b[0m\u001b[1;33m)\u001b[0m \u001b[1;33m->\u001b[0m \u001b[0mT\u001b[0m\u001b[1;33m:\u001b[0m\u001b[1;33m\u001b[0m\u001b[1;33m\u001b[0m\u001b[0m\n\u001b[1;32m--> 418\u001b[1;33m         \u001b[1;32mreturn\u001b[0m \u001b[0mself\u001b[0m\u001b[1;33m.\u001b[0m\u001b[0mapply\u001b[0m\u001b[1;33m(\u001b[0m\u001b[1;34m\"astype\"\u001b[0m\u001b[1;33m,\u001b[0m \u001b[0mdtype\u001b[0m\u001b[1;33m=\u001b[0m\u001b[0mdtype\u001b[0m\u001b[1;33m,\u001b[0m \u001b[0mcopy\u001b[0m\u001b[1;33m=\u001b[0m\u001b[0mcopy\u001b[0m\u001b[1;33m,\u001b[0m \u001b[0merrors\u001b[0m\u001b[1;33m=\u001b[0m\u001b[0merrors\u001b[0m\u001b[1;33m)\u001b[0m\u001b[1;33m\u001b[0m\u001b[1;33m\u001b[0m\u001b[0m\n\u001b[0m\u001b[0;32m    419\u001b[0m \u001b[1;33m\u001b[0m\u001b[0m\n\u001b[0;32m    420\u001b[0m     def convert(\n",
      "\u001b[1;32m~\\anaconda3\\lib\\site-packages\\pandas\\core\\internals\\managers.py\u001b[0m in \u001b[0;36mapply\u001b[1;34m(self, f, align_keys, ignore_failures, **kwargs)\u001b[0m\n\u001b[0;32m    325\u001b[0m                     \u001b[0mapplied\u001b[0m \u001b[1;33m=\u001b[0m \u001b[0mb\u001b[0m\u001b[1;33m.\u001b[0m\u001b[0mapply\u001b[0m\u001b[1;33m(\u001b[0m\u001b[0mf\u001b[0m\u001b[1;33m,\u001b[0m \u001b[1;33m**\u001b[0m\u001b[0mkwargs\u001b[0m\u001b[1;33m)\u001b[0m\u001b[1;33m\u001b[0m\u001b[1;33m\u001b[0m\u001b[0m\n\u001b[0;32m    326\u001b[0m                 \u001b[1;32melse\u001b[0m\u001b[1;33m:\u001b[0m\u001b[1;33m\u001b[0m\u001b[1;33m\u001b[0m\u001b[0m\n\u001b[1;32m--> 327\u001b[1;33m                     \u001b[0mapplied\u001b[0m \u001b[1;33m=\u001b[0m \u001b[0mgetattr\u001b[0m\u001b[1;33m(\u001b[0m\u001b[0mb\u001b[0m\u001b[1;33m,\u001b[0m \u001b[0mf\u001b[0m\u001b[1;33m)\u001b[0m\u001b[1;33m(\u001b[0m\u001b[1;33m**\u001b[0m\u001b[0mkwargs\u001b[0m\u001b[1;33m)\u001b[0m\u001b[1;33m\u001b[0m\u001b[1;33m\u001b[0m\u001b[0m\n\u001b[0m\u001b[0;32m    328\u001b[0m             \u001b[1;32mexcept\u001b[0m \u001b[1;33m(\u001b[0m\u001b[0mTypeError\u001b[0m\u001b[1;33m,\u001b[0m \u001b[0mNotImplementedError\u001b[0m\u001b[1;33m)\u001b[0m\u001b[1;33m:\u001b[0m\u001b[1;33m\u001b[0m\u001b[1;33m\u001b[0m\u001b[0m\n\u001b[0;32m    329\u001b[0m                 \u001b[1;32mif\u001b[0m \u001b[1;32mnot\u001b[0m \u001b[0mignore_failures\u001b[0m\u001b[1;33m:\u001b[0m\u001b[1;33m\u001b[0m\u001b[1;33m\u001b[0m\u001b[0m\n",
      "\u001b[1;32m~\\anaconda3\\lib\\site-packages\\pandas\\core\\internals\\blocks.py\u001b[0m in \u001b[0;36mastype\u001b[1;34m(self, dtype, copy, errors)\u001b[0m\n\u001b[0;32m    589\u001b[0m         \u001b[0mvalues\u001b[0m \u001b[1;33m=\u001b[0m \u001b[0mself\u001b[0m\u001b[1;33m.\u001b[0m\u001b[0mvalues\u001b[0m\u001b[1;33m\u001b[0m\u001b[1;33m\u001b[0m\u001b[0m\n\u001b[0;32m    590\u001b[0m \u001b[1;33m\u001b[0m\u001b[0m\n\u001b[1;32m--> 591\u001b[1;33m         \u001b[0mnew_values\u001b[0m \u001b[1;33m=\u001b[0m \u001b[0mastype_array_safe\u001b[0m\u001b[1;33m(\u001b[0m\u001b[0mvalues\u001b[0m\u001b[1;33m,\u001b[0m \u001b[0mdtype\u001b[0m\u001b[1;33m,\u001b[0m \u001b[0mcopy\u001b[0m\u001b[1;33m=\u001b[0m\u001b[0mcopy\u001b[0m\u001b[1;33m,\u001b[0m \u001b[0merrors\u001b[0m\u001b[1;33m=\u001b[0m\u001b[0merrors\u001b[0m\u001b[1;33m)\u001b[0m\u001b[1;33m\u001b[0m\u001b[1;33m\u001b[0m\u001b[0m\n\u001b[0m\u001b[0;32m    592\u001b[0m \u001b[1;33m\u001b[0m\u001b[0m\n\u001b[0;32m    593\u001b[0m         \u001b[0mnew_values\u001b[0m \u001b[1;33m=\u001b[0m \u001b[0mmaybe_coerce_values\u001b[0m\u001b[1;33m(\u001b[0m\u001b[0mnew_values\u001b[0m\u001b[1;33m)\u001b[0m\u001b[1;33m\u001b[0m\u001b[1;33m\u001b[0m\u001b[0m\n",
      "\u001b[1;32m~\\anaconda3\\lib\\site-packages\\pandas\\core\\dtypes\\cast.py\u001b[0m in \u001b[0;36mastype_array_safe\u001b[1;34m(values, dtype, copy, errors)\u001b[0m\n\u001b[0;32m   1307\u001b[0m \u001b[1;33m\u001b[0m\u001b[0m\n\u001b[0;32m   1308\u001b[0m     \u001b[1;32mtry\u001b[0m\u001b[1;33m:\u001b[0m\u001b[1;33m\u001b[0m\u001b[1;33m\u001b[0m\u001b[0m\n\u001b[1;32m-> 1309\u001b[1;33m         \u001b[0mnew_values\u001b[0m \u001b[1;33m=\u001b[0m \u001b[0mastype_array\u001b[0m\u001b[1;33m(\u001b[0m\u001b[0mvalues\u001b[0m\u001b[1;33m,\u001b[0m \u001b[0mdtype\u001b[0m\u001b[1;33m,\u001b[0m \u001b[0mcopy\u001b[0m\u001b[1;33m=\u001b[0m\u001b[0mcopy\u001b[0m\u001b[1;33m)\u001b[0m\u001b[1;33m\u001b[0m\u001b[1;33m\u001b[0m\u001b[0m\n\u001b[0m\u001b[0;32m   1310\u001b[0m     \u001b[1;32mexcept\u001b[0m \u001b[1;33m(\u001b[0m\u001b[0mValueError\u001b[0m\u001b[1;33m,\u001b[0m \u001b[0mTypeError\u001b[0m\u001b[1;33m)\u001b[0m\u001b[1;33m:\u001b[0m\u001b[1;33m\u001b[0m\u001b[1;33m\u001b[0m\u001b[0m\n\u001b[0;32m   1311\u001b[0m         \u001b[1;31m# e.g. astype_nansafe can fail on object-dtype of strings\u001b[0m\u001b[1;33m\u001b[0m\u001b[1;33m\u001b[0m\u001b[0m\n",
      "\u001b[1;32m~\\anaconda3\\lib\\site-packages\\pandas\\core\\dtypes\\cast.py\u001b[0m in \u001b[0;36mastype_array\u001b[1;34m(values, dtype, copy)\u001b[0m\n\u001b[0;32m   1255\u001b[0m \u001b[1;33m\u001b[0m\u001b[0m\n\u001b[0;32m   1256\u001b[0m     \u001b[1;32melse\u001b[0m\u001b[1;33m:\u001b[0m\u001b[1;33m\u001b[0m\u001b[1;33m\u001b[0m\u001b[0m\n\u001b[1;32m-> 1257\u001b[1;33m         \u001b[0mvalues\u001b[0m \u001b[1;33m=\u001b[0m \u001b[0mastype_nansafe\u001b[0m\u001b[1;33m(\u001b[0m\u001b[0mvalues\u001b[0m\u001b[1;33m,\u001b[0m \u001b[0mdtype\u001b[0m\u001b[1;33m,\u001b[0m \u001b[0mcopy\u001b[0m\u001b[1;33m=\u001b[0m\u001b[0mcopy\u001b[0m\u001b[1;33m)\u001b[0m\u001b[1;33m\u001b[0m\u001b[1;33m\u001b[0m\u001b[0m\n\u001b[0m\u001b[0;32m   1258\u001b[0m \u001b[1;33m\u001b[0m\u001b[0m\n\u001b[0;32m   1259\u001b[0m     \u001b[1;31m# in pandas we don't store numpy str dtypes, so convert to object\u001b[0m\u001b[1;33m\u001b[0m\u001b[1;33m\u001b[0m\u001b[0m\n",
      "\u001b[1;32m~\\anaconda3\\lib\\site-packages\\pandas\\core\\dtypes\\cast.py\u001b[0m in \u001b[0;36mastype_nansafe\u001b[1;34m(arr, dtype, copy, skipna)\u001b[0m\n\u001b[0;32m   1199\u001b[0m     \u001b[1;32mif\u001b[0m \u001b[0mcopy\u001b[0m \u001b[1;32mor\u001b[0m \u001b[0mis_object_dtype\u001b[0m\u001b[1;33m(\u001b[0m\u001b[0marr\u001b[0m\u001b[1;33m.\u001b[0m\u001b[0mdtype\u001b[0m\u001b[1;33m)\u001b[0m \u001b[1;32mor\u001b[0m \u001b[0mis_object_dtype\u001b[0m\u001b[1;33m(\u001b[0m\u001b[0mdtype\u001b[0m\u001b[1;33m)\u001b[0m\u001b[1;33m:\u001b[0m\u001b[1;33m\u001b[0m\u001b[1;33m\u001b[0m\u001b[0m\n\u001b[0;32m   1200\u001b[0m         \u001b[1;31m# Explicit copy, or required since NumPy can't view from / to object.\u001b[0m\u001b[1;33m\u001b[0m\u001b[1;33m\u001b[0m\u001b[0m\n\u001b[1;32m-> 1201\u001b[1;33m         \u001b[1;32mreturn\u001b[0m \u001b[0marr\u001b[0m\u001b[1;33m.\u001b[0m\u001b[0mastype\u001b[0m\u001b[1;33m(\u001b[0m\u001b[0mdtype\u001b[0m\u001b[1;33m,\u001b[0m \u001b[0mcopy\u001b[0m\u001b[1;33m=\u001b[0m\u001b[1;32mTrue\u001b[0m\u001b[1;33m)\u001b[0m\u001b[1;33m\u001b[0m\u001b[1;33m\u001b[0m\u001b[0m\n\u001b[0m\u001b[0;32m   1202\u001b[0m \u001b[1;33m\u001b[0m\u001b[0m\n\u001b[0;32m   1203\u001b[0m     \u001b[1;32mreturn\u001b[0m \u001b[0marr\u001b[0m\u001b[1;33m.\u001b[0m\u001b[0mastype\u001b[0m\u001b[1;33m(\u001b[0m\u001b[0mdtype\u001b[0m\u001b[1;33m,\u001b[0m \u001b[0mcopy\u001b[0m\u001b[1;33m=\u001b[0m\u001b[0mcopy\u001b[0m\u001b[1;33m)\u001b[0m\u001b[1;33m\u001b[0m\u001b[1;33m\u001b[0m\u001b[0m\n",
      "\u001b[1;31mValueError\u001b[0m: could not convert string to float: '065/09/15'"
     ]
    }
   ],
   "source": [
    "withDatedf[\"發照日期\"].replace('\\\\',\"\").astype(float)"
   ]
  },
  {
   "cell_type": "code",
   "execution_count": 48,
   "id": "b57c3494",
   "metadata": {},
   "outputs": [
    {
     "ename": "ValueError",
     "evalue": "could not convert string to float: '00961-6'",
     "output_type": "error",
     "traceback": [
      "\u001b[1;31m---------------------------------------------------------------------------\u001b[0m",
      "\u001b[1;31mValueError\u001b[0m                                Traceback (most recent call last)",
      "\u001b[1;32m~\\AppData\\Local\\Temp/ipykernel_29520/1063796869.py\u001b[0m in \u001b[0;36m<module>\u001b[1;34m\u001b[0m\n\u001b[1;32m----> 1\u001b[1;33m \u001b[0mpd\u001b[0m\u001b[1;33m.\u001b[0m\u001b[0mDataFrame\u001b[0m\u001b[1;33m(\u001b[0m\u001b[0mwithDatedf\u001b[0m\u001b[1;33m[\u001b[0m\u001b[1;34m\"發照日期\"\u001b[0m\u001b[1;33m]\u001b[0m\u001b[1;33m.\u001b[0m\u001b[0mapply\u001b[0m\u001b[1;33m(\u001b[0m\u001b[1;32mlambda\u001b[0m \u001b[0mx\u001b[0m\u001b[1;33m:\u001b[0m \u001b[0mfloat\u001b[0m\u001b[1;33m(\u001b[0m\u001b[0mx\u001b[0m\u001b[1;33m.\u001b[0m\u001b[0mreplace\u001b[0m\u001b[1;33m(\u001b[0m\u001b[1;34m\"/\"\u001b[0m\u001b[1;33m,\u001b[0m\u001b[1;34m''\u001b[0m\u001b[1;33m)\u001b[0m\u001b[1;33m)\u001b[0m\u001b[1;33m)\u001b[0m\u001b[1;33m.\u001b[0m\u001b[0mastype\u001b[0m\u001b[1;33m(\u001b[0m\u001b[1;34m'int64'\u001b[0m\u001b[1;33m)\u001b[0m\u001b[1;33m)\u001b[0m\u001b[1;33m\u001b[0m\u001b[1;33m\u001b[0m\u001b[0m\n\u001b[0m",
      "\u001b[1;32m~\\anaconda3\\lib\\site-packages\\pandas\\core\\series.py\u001b[0m in \u001b[0;36mapply\u001b[1;34m(self, func, convert_dtype, args, **kwargs)\u001b[0m\n\u001b[0;32m   4355\u001b[0m         \u001b[0mdtype\u001b[0m\u001b[1;33m:\u001b[0m \u001b[0mfloat64\u001b[0m\u001b[1;33m\u001b[0m\u001b[1;33m\u001b[0m\u001b[0m\n\u001b[0;32m   4356\u001b[0m         \"\"\"\n\u001b[1;32m-> 4357\u001b[1;33m         \u001b[1;32mreturn\u001b[0m \u001b[0mSeriesApply\u001b[0m\u001b[1;33m(\u001b[0m\u001b[0mself\u001b[0m\u001b[1;33m,\u001b[0m \u001b[0mfunc\u001b[0m\u001b[1;33m,\u001b[0m \u001b[0mconvert_dtype\u001b[0m\u001b[1;33m,\u001b[0m \u001b[0margs\u001b[0m\u001b[1;33m,\u001b[0m \u001b[0mkwargs\u001b[0m\u001b[1;33m)\u001b[0m\u001b[1;33m.\u001b[0m\u001b[0mapply\u001b[0m\u001b[1;33m(\u001b[0m\u001b[1;33m)\u001b[0m\u001b[1;33m\u001b[0m\u001b[1;33m\u001b[0m\u001b[0m\n\u001b[0m\u001b[0;32m   4358\u001b[0m \u001b[1;33m\u001b[0m\u001b[0m\n\u001b[0;32m   4359\u001b[0m     def _reduce(\n",
      "\u001b[1;32m~\\anaconda3\\lib\\site-packages\\pandas\\core\\apply.py\u001b[0m in \u001b[0;36mapply\u001b[1;34m(self)\u001b[0m\n\u001b[0;32m   1041\u001b[0m             \u001b[1;32mreturn\u001b[0m \u001b[0mself\u001b[0m\u001b[1;33m.\u001b[0m\u001b[0mapply_str\u001b[0m\u001b[1;33m(\u001b[0m\u001b[1;33m)\u001b[0m\u001b[1;33m\u001b[0m\u001b[1;33m\u001b[0m\u001b[0m\n\u001b[0;32m   1042\u001b[0m \u001b[1;33m\u001b[0m\u001b[0m\n\u001b[1;32m-> 1043\u001b[1;33m         \u001b[1;32mreturn\u001b[0m \u001b[0mself\u001b[0m\u001b[1;33m.\u001b[0m\u001b[0mapply_standard\u001b[0m\u001b[1;33m(\u001b[0m\u001b[1;33m)\u001b[0m\u001b[1;33m\u001b[0m\u001b[1;33m\u001b[0m\u001b[0m\n\u001b[0m\u001b[0;32m   1044\u001b[0m \u001b[1;33m\u001b[0m\u001b[0m\n\u001b[0;32m   1045\u001b[0m     \u001b[1;32mdef\u001b[0m \u001b[0magg\u001b[0m\u001b[1;33m(\u001b[0m\u001b[0mself\u001b[0m\u001b[1;33m)\u001b[0m\u001b[1;33m:\u001b[0m\u001b[1;33m\u001b[0m\u001b[1;33m\u001b[0m\u001b[0m\n",
      "\u001b[1;32m~\\anaconda3\\lib\\site-packages\\pandas\\core\\apply.py\u001b[0m in \u001b[0;36mapply_standard\u001b[1;34m(self)\u001b[0m\n\u001b[0;32m   1096\u001b[0m                 \u001b[1;31m# List[Union[Callable[..., Any], str]]]]]\"; expected\u001b[0m\u001b[1;33m\u001b[0m\u001b[1;33m\u001b[0m\u001b[0m\n\u001b[0;32m   1097\u001b[0m                 \u001b[1;31m# \"Callable[[Any], Any]\"\u001b[0m\u001b[1;33m\u001b[0m\u001b[1;33m\u001b[0m\u001b[0m\n\u001b[1;32m-> 1098\u001b[1;33m                 mapped = lib.map_infer(\n\u001b[0m\u001b[0;32m   1099\u001b[0m                     \u001b[0mvalues\u001b[0m\u001b[1;33m,\u001b[0m\u001b[1;33m\u001b[0m\u001b[1;33m\u001b[0m\u001b[0m\n\u001b[0;32m   1100\u001b[0m                     \u001b[0mf\u001b[0m\u001b[1;33m,\u001b[0m  \u001b[1;31m# type: ignore[arg-type]\u001b[0m\u001b[1;33m\u001b[0m\u001b[1;33m\u001b[0m\u001b[0m\n",
      "\u001b[1;32m~\\anaconda3\\lib\\site-packages\\pandas\\_libs\\lib.pyx\u001b[0m in \u001b[0;36mpandas._libs.lib.map_infer\u001b[1;34m()\u001b[0m\n",
      "\u001b[1;32m~\\AppData\\Local\\Temp/ipykernel_29520/1063796869.py\u001b[0m in \u001b[0;36m<lambda>\u001b[1;34m(x)\u001b[0m\n\u001b[1;32m----> 1\u001b[1;33m \u001b[0mpd\u001b[0m\u001b[1;33m.\u001b[0m\u001b[0mDataFrame\u001b[0m\u001b[1;33m(\u001b[0m\u001b[0mwithDatedf\u001b[0m\u001b[1;33m[\u001b[0m\u001b[1;34m\"發照日期\"\u001b[0m\u001b[1;33m]\u001b[0m\u001b[1;33m.\u001b[0m\u001b[0mapply\u001b[0m\u001b[1;33m(\u001b[0m\u001b[1;32mlambda\u001b[0m \u001b[0mx\u001b[0m\u001b[1;33m:\u001b[0m \u001b[0mfloat\u001b[0m\u001b[1;33m(\u001b[0m\u001b[0mx\u001b[0m\u001b[1;33m.\u001b[0m\u001b[0mreplace\u001b[0m\u001b[1;33m(\u001b[0m\u001b[1;34m\"/\"\u001b[0m\u001b[1;33m,\u001b[0m\u001b[1;34m''\u001b[0m\u001b[1;33m)\u001b[0m\u001b[1;33m)\u001b[0m\u001b[1;33m)\u001b[0m\u001b[1;33m.\u001b[0m\u001b[0mastype\u001b[0m\u001b[1;33m(\u001b[0m\u001b[1;34m'int64'\u001b[0m\u001b[1;33m)\u001b[0m\u001b[1;33m)\u001b[0m\u001b[1;33m\u001b[0m\u001b[1;33m\u001b[0m\u001b[0m\n\u001b[0m",
      "\u001b[1;31mValueError\u001b[0m: could not convert string to float: '00961-6'"
     ]
    }
   ],
   "source": [
    "pd.DataFrame(withDatedf[\"發照日期\"].apply(lambda x: float(x.replace(\"/\",''))).astype('int64'))"
   ]
  },
  {
   "cell_type": "code",
   "execution_count": 25,
   "id": "3c003c72",
   "metadata": {
    "scrolled": true
   },
   "outputs": [
    {
     "data": {
      "text/html": [
       "<div>\n",
       "<style scoped>\n",
       "    .dataframe tbody tr th:only-of-type {\n",
       "        vertical-align: middle;\n",
       "    }\n",
       "\n",
       "    .dataframe tbody tr th {\n",
       "        vertical-align: top;\n",
       "    }\n",
       "\n",
       "    .dataframe thead th {\n",
       "        text-align: right;\n",
       "    }\n",
       "</style>\n",
       "<table border=\"1\" class=\"dataframe\">\n",
       "  <thead>\n",
       "    <tr style=\"text-align: right;\">\n",
       "      <th></th>\n",
       "      <th>發照日期</th>\n",
       "    </tr>\n",
       "  </thead>\n",
       "  <tbody>\n",
       "    <tr>\n",
       "      <th>16</th>\n",
       "      <td>065</td>\n",
       "    </tr>\n",
       "    <tr>\n",
       "      <th>41</th>\n",
       "      <td>069</td>\n",
       "    </tr>\n",
       "    <tr>\n",
       "      <th>54</th>\n",
       "      <td>068</td>\n",
       "    </tr>\n",
       "    <tr>\n",
       "      <th>62</th>\n",
       "      <td>068</td>\n",
       "    </tr>\n",
       "    <tr>\n",
       "      <th>63</th>\n",
       "      <td>068</td>\n",
       "    </tr>\n",
       "    <tr>\n",
       "      <th>...</th>\n",
       "      <td>...</td>\n",
       "    </tr>\n",
       "    <tr>\n",
       "      <th>73753</th>\n",
       "      <td>110</td>\n",
       "    </tr>\n",
       "    <tr>\n",
       "      <th>73754</th>\n",
       "      <td>110</td>\n",
       "    </tr>\n",
       "    <tr>\n",
       "      <th>73755</th>\n",
       "      <td>110</td>\n",
       "    </tr>\n",
       "    <tr>\n",
       "      <th>73756</th>\n",
       "      <td>085</td>\n",
       "    </tr>\n",
       "    <tr>\n",
       "      <th>73760</th>\n",
       "      <td>109</td>\n",
       "    </tr>\n",
       "  </tbody>\n",
       "</table>\n",
       "<p>45737 rows × 1 columns</p>\n",
       "</div>"
      ],
      "text/plain": [
       "      發照日期\n",
       "16     065\n",
       "41     069\n",
       "54     068\n",
       "62     068\n",
       "63     068\n",
       "...    ...\n",
       "73753  110\n",
       "73754  110\n",
       "73755  110\n",
       "73756  085\n",
       "73760  109\n",
       "\n",
       "[45737 rows x 1 columns]"
      ]
     },
     "execution_count": 25,
     "metadata": {},
     "output_type": "execute_result"
    }
   ],
   "source": [
    "pd.DataFrame(withDatedf[\"發照日期\"].apply(lambda x: x[0:3]))"
   ]
  },
  {
   "cell_type": "code",
   "execution_count": 20,
   "id": "1269d075",
   "metadata": {},
   "outputs": [
    {
     "ename": "NameError",
     "evalue": "name 'int64' is not defined",
     "output_type": "error",
     "traceback": [
      "\u001b[1;31m---------------------------------------------------------------------------\u001b[0m",
      "\u001b[1;31mNameError\u001b[0m                                 Traceback (most recent call last)",
      "\u001b[1;32m~\\AppData\\Local\\Temp/ipykernel_29520/1480898360.py\u001b[0m in \u001b[0;36m<module>\u001b[1;34m\u001b[0m\n\u001b[1;32m----> 1\u001b[1;33m \u001b[0mwithDatedf\u001b[0m\u001b[1;33m[\u001b[0m\u001b[1;34m\"發照日期\"\u001b[0m\u001b[1;33m]\u001b[0m\u001b[1;33m.\u001b[0m\u001b[0mapply\u001b[0m\u001b[1;33m(\u001b[0m\u001b[1;32mlambda\u001b[0m \u001b[0mx\u001b[0m\u001b[1;33m:\u001b[0m \u001b[0mint64\u001b[0m\u001b[1;33m(\u001b[0m\u001b[0mx\u001b[0m\u001b[1;33m[\u001b[0m\u001b[1;36m0\u001b[0m\u001b[1;33m:\u001b[0m\u001b[1;36m3\u001b[0m\u001b[1;33m]\u001b[0m\u001b[1;33m)\u001b[0m\u001b[1;33m)\u001b[0m\u001b[1;33m\u001b[0m\u001b[1;33m\u001b[0m\u001b[0m\n\u001b[0m",
      "\u001b[1;32m~\\anaconda3\\lib\\site-packages\\pandas\\core\\series.py\u001b[0m in \u001b[0;36mapply\u001b[1;34m(self, func, convert_dtype, args, **kwargs)\u001b[0m\n\u001b[0;32m   4355\u001b[0m         \u001b[0mdtype\u001b[0m\u001b[1;33m:\u001b[0m \u001b[0mfloat64\u001b[0m\u001b[1;33m\u001b[0m\u001b[1;33m\u001b[0m\u001b[0m\n\u001b[0;32m   4356\u001b[0m         \"\"\"\n\u001b[1;32m-> 4357\u001b[1;33m         \u001b[1;32mreturn\u001b[0m \u001b[0mSeriesApply\u001b[0m\u001b[1;33m(\u001b[0m\u001b[0mself\u001b[0m\u001b[1;33m,\u001b[0m \u001b[0mfunc\u001b[0m\u001b[1;33m,\u001b[0m \u001b[0mconvert_dtype\u001b[0m\u001b[1;33m,\u001b[0m \u001b[0margs\u001b[0m\u001b[1;33m,\u001b[0m \u001b[0mkwargs\u001b[0m\u001b[1;33m)\u001b[0m\u001b[1;33m.\u001b[0m\u001b[0mapply\u001b[0m\u001b[1;33m(\u001b[0m\u001b[1;33m)\u001b[0m\u001b[1;33m\u001b[0m\u001b[1;33m\u001b[0m\u001b[0m\n\u001b[0m\u001b[0;32m   4358\u001b[0m \u001b[1;33m\u001b[0m\u001b[0m\n\u001b[0;32m   4359\u001b[0m     def _reduce(\n",
      "\u001b[1;32m~\\anaconda3\\lib\\site-packages\\pandas\\core\\apply.py\u001b[0m in \u001b[0;36mapply\u001b[1;34m(self)\u001b[0m\n\u001b[0;32m   1041\u001b[0m             \u001b[1;32mreturn\u001b[0m \u001b[0mself\u001b[0m\u001b[1;33m.\u001b[0m\u001b[0mapply_str\u001b[0m\u001b[1;33m(\u001b[0m\u001b[1;33m)\u001b[0m\u001b[1;33m\u001b[0m\u001b[1;33m\u001b[0m\u001b[0m\n\u001b[0;32m   1042\u001b[0m \u001b[1;33m\u001b[0m\u001b[0m\n\u001b[1;32m-> 1043\u001b[1;33m         \u001b[1;32mreturn\u001b[0m \u001b[0mself\u001b[0m\u001b[1;33m.\u001b[0m\u001b[0mapply_standard\u001b[0m\u001b[1;33m(\u001b[0m\u001b[1;33m)\u001b[0m\u001b[1;33m\u001b[0m\u001b[1;33m\u001b[0m\u001b[0m\n\u001b[0m\u001b[0;32m   1044\u001b[0m \u001b[1;33m\u001b[0m\u001b[0m\n\u001b[0;32m   1045\u001b[0m     \u001b[1;32mdef\u001b[0m \u001b[0magg\u001b[0m\u001b[1;33m(\u001b[0m\u001b[0mself\u001b[0m\u001b[1;33m)\u001b[0m\u001b[1;33m:\u001b[0m\u001b[1;33m\u001b[0m\u001b[1;33m\u001b[0m\u001b[0m\n",
      "\u001b[1;32m~\\anaconda3\\lib\\site-packages\\pandas\\core\\apply.py\u001b[0m in \u001b[0;36mapply_standard\u001b[1;34m(self)\u001b[0m\n\u001b[0;32m   1096\u001b[0m                 \u001b[1;31m# List[Union[Callable[..., Any], str]]]]]\"; expected\u001b[0m\u001b[1;33m\u001b[0m\u001b[1;33m\u001b[0m\u001b[0m\n\u001b[0;32m   1097\u001b[0m                 \u001b[1;31m# \"Callable[[Any], Any]\"\u001b[0m\u001b[1;33m\u001b[0m\u001b[1;33m\u001b[0m\u001b[0m\n\u001b[1;32m-> 1098\u001b[1;33m                 mapped = lib.map_infer(\n\u001b[0m\u001b[0;32m   1099\u001b[0m                     \u001b[0mvalues\u001b[0m\u001b[1;33m,\u001b[0m\u001b[1;33m\u001b[0m\u001b[1;33m\u001b[0m\u001b[0m\n\u001b[0;32m   1100\u001b[0m                     \u001b[0mf\u001b[0m\u001b[1;33m,\u001b[0m  \u001b[1;31m# type: ignore[arg-type]\u001b[0m\u001b[1;33m\u001b[0m\u001b[1;33m\u001b[0m\u001b[0m\n",
      "\u001b[1;32m~\\anaconda3\\lib\\site-packages\\pandas\\_libs\\lib.pyx\u001b[0m in \u001b[0;36mpandas._libs.lib.map_infer\u001b[1;34m()\u001b[0m\n",
      "\u001b[1;32m~\\AppData\\Local\\Temp/ipykernel_29520/1480898360.py\u001b[0m in \u001b[0;36m<lambda>\u001b[1;34m(x)\u001b[0m\n\u001b[1;32m----> 1\u001b[1;33m \u001b[0mwithDatedf\u001b[0m\u001b[1;33m[\u001b[0m\u001b[1;34m\"發照日期\"\u001b[0m\u001b[1;33m]\u001b[0m\u001b[1;33m.\u001b[0m\u001b[0mapply\u001b[0m\u001b[1;33m(\u001b[0m\u001b[1;32mlambda\u001b[0m \u001b[0mx\u001b[0m\u001b[1;33m:\u001b[0m \u001b[0mint64\u001b[0m\u001b[1;33m(\u001b[0m\u001b[0mx\u001b[0m\u001b[1;33m[\u001b[0m\u001b[1;36m0\u001b[0m\u001b[1;33m:\u001b[0m\u001b[1;36m3\u001b[0m\u001b[1;33m]\u001b[0m\u001b[1;33m)\u001b[0m\u001b[1;33m)\u001b[0m\u001b[1;33m\u001b[0m\u001b[1;33m\u001b[0m\u001b[0m\n\u001b[0m",
      "\u001b[1;31mNameError\u001b[0m: name 'int64' is not defined"
     ]
    }
   ],
   "source": [
    "withDatedf[\"發照日期\"].apply(lambda x: int(x[0:3]))"
   ]
  },
  {
   "cell_type": "code",
   "execution_count": null,
   "id": "88b0eb57",
   "metadata": {},
   "outputs": [],
   "source": [
    "#withDatedf[\"發照日期\"]=withDatedf[\"發照日期\"].str.replace(withDatedf[\"發照日期\"][0:3], str(withDatedf[\"發照日期\"][0:3].astype('int32')+1911))\n",
    "#pd.to_datetime(withDatedf[\"發照日期\"]).dt.date\n",
    "withDatedf[\"發照日期\"]=withDatedf[\"發照日期\"].apply(lambda x: x.replace(x[0:3], str(int(x[0:3])+1911))"
   ]
  }
 ],
 "metadata": {
  "kernelspec": {
   "display_name": "Python 3 (ipykernel)",
   "language": "python",
   "name": "python3"
  },
  "language_info": {
   "codemirror_mode": {
    "name": "ipython",
    "version": 3
   },
   "file_extension": ".py",
   "mimetype": "text/x-python",
   "name": "python",
   "nbconvert_exporter": "python",
   "pygments_lexer": "ipython3",
   "version": "3.9.7"
  }
 },
 "nbformat": 4,
 "nbformat_minor": 5
}
